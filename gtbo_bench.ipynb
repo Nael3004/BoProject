{
 "cells": [
  {
   "cell_type": "code",
   "execution_count": 1,
   "metadata": {},
   "outputs": [
    {
     "name": "stderr",
     "output_type": "stream",
     "text": [
      "c:\\Users\\naelb\\OneDrive\\Documents\\Leiden Classes\\s1\\Bayesian Opti\\GroupWork\\gtbo_env\\Lib\\site-packages\\tqdm\\auto.py:21: TqdmWarning: IProgress not found. Please update jupyter and ipywidgets. See https://ipywidgets.readthedocs.io/en/stable/user_install.html\n",
      "  from .autonotebook import tqdm as notebook_tqdm\n"
     ]
    }
   ],
   "source": [
    "import ioh\n",
    "from gtbo.benchmarks import Benchmark\n",
    "from gtbo.gtbo import GTBO\n",
    "from torch import tensor\n",
    "import torch"
   ]
  },
  {
   "cell_type": "code",
   "execution_count": 2,
   "metadata": {},
   "outputs": [],
   "source": [
    "class Bench(Benchmark):\n",
    "    def __init__(self, dim, ub, lb, noise_std, f, returns_noiseless=False):\n",
    "        super().__init__(dim, ub, lb, noise_std, returns_noiseless)\n",
    "        self.func = f\n",
    "\n",
    "    def __call__(self, x):\n",
    "        val = self.func(x.tolist())\n",
    "        \n",
    "        return tuple([tensor(val), tensor(val)])"
   ]
  },
  {
   "cell_type": "code",
   "execution_count": null,
   "metadata": {},
   "outputs": [
    {
     "name": "stdout",
     "output_type": "stream",
     "text": [
      "0\n",
      "1\n"
     ]
    }
   ],
   "source": [
    "torch.manual_seed(7) #set seed to 6 for 10d f1\n",
    "#seed to 5 for 40d f1\n",
    "#seed to 3 for 40d f12\n",
    "#seed to 5 for 40d f15\n",
    "\n",
    "dim=40\n",
    "pb_id=15\n",
    "root=\"C:\\\\Users\\\\naelb\\\\OneDrive\\\\Documents\\\\Leiden Classes\\\\S1\\\\Bayesian Opti\\\\GroupWork\\\\gtbo_runs\"\n",
    "\n",
    "problem = ioh.get_problem(pb_id, dimension=dim, instance=1, problem_class=ioh.ProblemClass.BBOB)\n",
    "l = ioh.logger.Analyzer(root=root, folder_name=\"vanilla_f\"+str(pb_id)+\"_\"+str(dim)+\"d\", algorithm_name=\"gtbo\")\n",
    "problem.attach_logger(l)\n",
    "\n",
    "for i in range(5):\n",
    "    print(i)\n",
    "    benchmark = Bench(dim, tensor(problem.bounds.ub), tensor(problem.bounds.lb), None, problem, True)\n",
    "    optimizer = GTBO(benchmark, 10*dim, dim, '.\\\\vanilla_gtbo_res', retrain_gp_from_scratch_every=int(dim/2), device=\"gpu\")\n",
    "    optimizer.run()\n",
    "\n",
    "    problem.reset()"
   ]
  }
 ],
 "metadata": {
  "kernelspec": {
   "display_name": "gtbo_env",
   "language": "python",
   "name": "python3"
  },
  "language_info": {
   "codemirror_mode": {
    "name": "ipython",
    "version": 3
   },
   "file_extension": ".py",
   "mimetype": "text/x-python",
   "name": "python",
   "nbconvert_exporter": "python",
   "pygments_lexer": "ipython3",
   "version": "3.11.9"
  }
 },
 "nbformat": 4,
 "nbformat_minor": 2
}
